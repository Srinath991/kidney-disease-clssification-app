{
 "cells": [
  {
   "cell_type": "code",
   "execution_count": 9,
   "metadata": {},
   "outputs": [],
   "source": [
    "d={\n",
    "    'key1':'hellow1',\n",
    "    'key2':'hellow2',\n",
    "}"
   ]
  },
  {
   "cell_type": "code",
   "execution_count": 10,
   "metadata": {},
   "outputs": [
    {
     "data": {
      "text/plain": [
       "'hellow1'"
      ]
     },
     "execution_count": 10,
     "metadata": {},
     "output_type": "execute_result"
    }
   ],
   "source": [
    "d['key1']"
   ]
  },
  {
   "cell_type": "code",
   "execution_count": 11,
   "metadata": {},
   "outputs": [
    {
     "data": {
      "text/plain": [
       "'hellow1'"
      ]
     },
     "execution_count": 11,
     "metadata": {},
     "output_type": "execute_result"
    }
   ],
   "source": [
    "#config box\n",
    "from box import ConfigBox\n",
    "box_d=ConfigBox(d)\n",
    "box_d.key1"
   ]
  },
  {
   "cell_type": "code",
   "execution_count": 12,
   "metadata": {},
   "outputs": [],
   "source": [
    "def ge_pridict(x:int,y:int)->int:\n",
    "    return x*y"
   ]
  },
  {
   "cell_type": "code",
   "execution_count": 17,
   "metadata": {},
   "outputs": [
    {
     "name": "stderr",
     "output_type": "stream",
     "text": [
      "Downloading...\n",
      "From (original): https://drive.google.com/uc?id=1cWnKw-WNDROmKeLmOA_TWm8tuxT7dMLI\n",
      "From (redirected): https://drive.google.com/uc?id=1cWnKw-WNDROmKeLmOA_TWm8tuxT7dMLI&confirm=t&uuid=25af970b-0122-45fa-9828-eadba1d1c0a0\n",
      "To: /Users/apple/Documents/end-to-end-datascience projects/ml_projects/krish_naik/kidney-disease-clssification-app/research/kidney_ct_scan.zip\n",
      "100%|██████████| 1.63G/1.63G [01:22<00:00, 19.7MB/s]"
     ]
    },
    {
     "name": "stdout",
     "output_type": "stream",
     "text": [
      "Download complete!\n"
     ]
    },
    {
     "name": "stderr",
     "output_type": "stream",
     "text": [
      "\n"
     ]
    }
   ],
   "source": [
    "import gdown\n",
    "\n",
    "# Google Drive file link\n",
    "link = 'https://drive.google.com/file/d/1cWnKw-WNDROmKeLmOA_TWm8tuxT7dMLI/view?usp=sharing'\n",
    "\n",
    "# Extract file ID from the link\n",
    "FILE_ID = link.split('/')[5]\n",
    "\n",
    "# Create the download URL\n",
    "prefix = f'https://drive.google.com/uc?id={FILE_ID}'\n",
    "\n",
    "# Specify the output file name\n",
    "output = 'kidney_ct_scan.zip'\n",
    "\n",
    "# Download the file\n",
    "gdown.download(prefix, output, quiet=False)\n",
    "\n",
    "print(\"Download complete!\")\n"
   ]
  },
  {
   "cell_type": "code",
   "execution_count": null,
   "metadata": {},
   "outputs": [],
   "source": []
  }
 ],
 "metadata": {
  "kernelspec": {
   "display_name": "ml",
   "language": "python",
   "name": "python3"
  },
  "language_info": {
   "codemirror_mode": {
    "name": "ipython",
    "version": 3
   },
   "file_extension": ".py",
   "mimetype": "text/x-python",
   "name": "python",
   "nbconvert_exporter": "python",
   "pygments_lexer": "ipython3",
   "version": "3.11.7"
  }
 },
 "nbformat": 4,
 "nbformat_minor": 2
}
